{
 "cells": [
  {
   "cell_type": "markdown",
   "id": "27b8125e-002d-4752-9ecd-34f3370d8d89",
   "metadata": {},
   "source": [
    "# LeNet-5\n",
    "\n",
    "**What is LeNet 5?**\n",
    "\n",
    "**Features of LeNet-5**\n",
    "\n",
    "**Architecture**\n",
    "\n",
    "[Link to paper] (http://vision.stanford.edu/cs598_spring07/papers/Lecun98.pdf)"
   ]
  },
  {
   "cell_type": "code",
   "execution_count": 15,
   "id": "9c1db436-082b-498c-903c-1ea9c0863794",
   "metadata": {},
   "outputs": [],
   "source": [
    "import numpy as np\n",
    "import torch\n",
    "import torchvision\n",
    "import matplotlib.pyplot as plt\n",
    "from time import time\n",
    "from torchvision import datasets, transforms\n",
    "from torch import nn, optim\n",
    "\n",
    "# check device\n",
    "DEVICE = 'cuda' if torch.cuda.is_available() else 'cpu'"
   ]
  },
  {
   "cell_type": "code",
   "execution_count": 21,
   "id": "fc149c98-e6e3-4650-8093-b88792572239",
   "metadata": {},
   "outputs": [],
   "source": [
    "class LeNet5(nn.Module):\n",
    "    def __init__(self):\n",
    "        super(LeNet5, self).__init__()      \n",
    "\n",
    "    def forward(self, x):\n",
    "        pass"
   ]
  },
  {
   "cell_type": "markdown",
   "id": "4eaa2e29-a7b8-4619-925f-95e21854b76c",
   "metadata": {},
   "source": [
    "### Input Layer\n",
    "**Dimensions:** 32x32x1\n",
    "**Number of Filters (n):** 6\n",
    "**Filter Size (F):** 5\n",
    "**Padding (P):** 0\n",
    "**Stride (S):** 1\n",
    "\n",
    "#### Trainable Parameters\n",
    "= F x F x n x x + x\n",
    "= 5 x 5 x 1 x 6 x 6 = 156\n",
    "\n",
    "**Connections = 28 x 28 x 156 = 122,304**"
   ]
  },
  {
   "cell_type": "markdown",
   "id": "4a37be32-b212-41b1-9100-641cbbae4186",
   "metadata": {},
   "source": [
    "### Convolution Layer (C1)\n",
    "**Dimensions:** 28x28x6\n",
    "**Number of Filters (n):** 6\n",
    "**Filter Size (F):** 2\n",
    "**Padding (P):** 0\n",
    "**Stride (S):** 2\n",
    "\n",
    "#### Trainable Parameters\n",
    "= (coefficient + bias) x filters\n",
    "= (1 + 1) x 6 = 156\n",
    "= 12\n",
    "\n",
    "**Connections = 14 x 14 x 30 = 5880**"
   ]
  },
  {
   "cell_type": "markdown",
   "id": "b20d9225-6110-4da7-a708-e10fc8415106",
   "metadata": {},
   "source": [
    "### Subsampling Layer (S2)"
   ]
  },
  {
   "cell_type": "markdown",
   "id": "7011f6bd-96a0-4e25-9756-99c03002bd2b",
   "metadata": {},
   "source": [
    "### Convolution Layer (C3)"
   ]
  },
  {
   "cell_type": "markdown",
   "id": "5f7cde7d-9c5d-48fc-a011-67700ef495b4",
   "metadata": {},
   "source": [
    "### Subsampling Layer (S4)"
   ]
  },
  {
   "cell_type": "markdown",
   "id": "4bcef4f2-4b16-4e63-957e-08171b36e3bc",
   "metadata": {},
   "source": [
    "### Convolution Layer (C5)"
   ]
  },
  {
   "cell_type": "markdown",
   "id": "054c2e25-8a6b-4600-aeee-9801a7887bc2",
   "metadata": {},
   "source": [
    "### Subsampling Layer (S6)"
   ]
  },
  {
   "cell_type": "markdown",
   "id": "4fa92177-6573-4f20-80d1-5af4d96543af",
   "metadata": {},
   "source": [
    "### Output Layer"
   ]
  }
 ],
 "metadata": {
  "kernelspec": {
   "display_name": "Python 3 (ipykernel)",
   "language": "python",
   "name": "python3"
  },
  "language_info": {
   "codemirror_mode": {
    "name": "ipython",
    "version": 3
   },
   "file_extension": ".py",
   "mimetype": "text/x-python",
   "name": "python",
   "nbconvert_exporter": "python",
   "pygments_lexer": "ipython3",
   "version": "3.11.5"
  }
 },
 "nbformat": 4,
 "nbformat_minor": 5
}
