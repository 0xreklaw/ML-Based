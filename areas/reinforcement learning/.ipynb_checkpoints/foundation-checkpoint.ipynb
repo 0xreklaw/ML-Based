{
 "cells": [
  {
   "cell_type": "markdown",
   "id": "54faddc4-cda4-4a20-925c-39ea7dc64f23",
   "metadata": {},
   "source": [
    "# Reinforcement Learning Foundation\n",
    "This module is based on the DeepMind lectures given by David Silver, you can find the following material below:\n",
    "\n",
    "- [DeepMind RL Course](https://www.davidsilver.uk/teaching/)\n",
    "- [Algorithms for Reinforcement Learning](https://sites.ualberta.ca/~szepesva/papers/RLAlgsInMDPs.pdf)\n",
    "\n",
    "#### Table of Contents\n",
    "1. Introduction (Basic Ideas behind RL)\n",
    "2. Markov Decision Processes\n",
    "3. Planning by Dyanmic Programming\n",
    "4. Model-Free Prediction\n",
    "5. Model-Free Control\n",
    "6. Value Functon Approximation\n",
    "7. Policy Gradient Methods\n",
    "8. Integrating Learning and Planning\n",
    "9. Exploration and Exploitation"
   ]
  },
  {
   "cell_type": "markdown",
   "id": "f4f48fa2-0df5-49be-b740-1ee36889f55e",
   "metadata": {},
   "source": [
    "### A Brief Introduction"
   ]
  },
  {
   "cell_type": "markdown",
   "id": "ea35c417-8c5d-4f4b-a21f-4a9d78db8275",
   "metadata": {},
   "source": [
    "### Markov Decision Processes"
   ]
  },
  {
   "cell_type": "code",
   "execution_count": null,
   "id": "dec9877f-fef5-4742-91e2-3d7c00fb026a",
   "metadata": {},
   "outputs": [],
   "source": []
  },
  {
   "cell_type": "code",
   "execution_count": null,
   "id": "c0955b0d-ed2f-42cd-a20d-226773d831c2",
   "metadata": {},
   "outputs": [],
   "source": []
  }
 ],
 "metadata": {
  "kernelspec": {
   "display_name": "Python 3 (ipykernel)",
   "language": "python",
   "name": "python3"
  },
  "language_info": {
   "codemirror_mode": {
    "name": "ipython",
    "version": 3
   },
   "file_extension": ".py",
   "mimetype": "text/x-python",
   "name": "python",
   "nbconvert_exporter": "python",
   "pygments_lexer": "ipython3",
   "version": "3.11.5"
  }
 },
 "nbformat": 4,
 "nbformat_minor": 5
}
