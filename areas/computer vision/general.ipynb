{
 "cells": [
  {
   "cell_type": "code",
   "execution_count": null,
   "id": "6f369081",
   "metadata": {},
   "outputs": [],
   "source": [
    "# noise filters: gaussian blur, mean filter, median filter, bilateral filter\n",
    "# image processing algorithms (gausian image processing, edge detection, fourier transform, wavelet image processing)\n",
    "# resource: https://www.mlstack.cafe/blog/computer-vision-interview-questions\n",
    "# https://github.com/badtyprr/computer-vision-interview\n",
    "# https://medium.com/@marizombie/machine-learning-interview-computer-vision-897bc2928855"
   ]
  }
 ],
 "metadata": {
  "kernelspec": {
   "display_name": "Python 3 (ipykernel)",
   "language": "python",
   "name": "python3"
  },
  "language_info": {
   "codemirror_mode": {
    "name": "ipython",
    "version": 3
   },
   "file_extension": ".py",
   "mimetype": "text/x-python",
   "name": "python",
   "nbconvert_exporter": "python",
   "pygments_lexer": "ipython3",
   "version": "3.11.5"
  }
 },
 "nbformat": 4,
 "nbformat_minor": 5
}
