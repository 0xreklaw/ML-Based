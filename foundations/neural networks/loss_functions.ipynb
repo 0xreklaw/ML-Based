{
 "cells": [
  {
   "cell_type": "markdown",
   "id": "62a014ca-d9de-4fc3-8957-6baa05034619",
   "metadata": {},
   "source": [
    "# Loss Function"
   ]
  },
  {
   "cell_type": "markdown",
   "id": "b715a3e9-508b-4049-8ca1-0cc395054785",
   "metadata": {},
   "source": [
    "#### Types of Loss Functions:\n",
    "| Loss Function | Classification | Regression |\n",
    "| ---           | :---:            |:---:         |\n",
    "| Mean Squared Error (MSE) / L2 Loss | No | Yes |\n",
    "| Mean Absolute Error (MBE) / L1 Loss | No | Yes |\n",
    "| Binary Cross-Entropy / Log Loss | Yes | No |\n",
    "| Categorical Cross-Entropy Loss | Yes | No |\n",
    "| Hinge Loss | Yes | No |\n",
    "| Huber Loss / Smooth Mean Absolute Error | No | Yes |\n",
    "| Log Loss | Yes | No |"
   ]
  },
  {
   "cell_type": "markdown",
   "id": "f5f73437-a19f-40be-bc8b-6d4035264837",
   "metadata": {},
   "source": [
    "#### Further Reading\n",
    "- [General overview](https://www.datacamp.com/tutorial/loss-function-in-machine-learning)\n",
    "- [How to choose loss function for deep learning](https://machinelearningmastery.com/how-to-choose-loss-functions-when-training-deep-learning-neural-networks/)\n",
    "- [Overview with nice visuals](https://towardsdatascience.com/importance-of-loss-function-in-machine-learning-eddaaec69519)\n",
    "- [Overview with NumPy Implemetations](https://towardsdatascience.com/common-loss-functions-in-machine-learning-46af0ffc4d23)"
   ]
  },
  {
   "cell_type": "markdown",
   "id": "bd7bbe2e-f7d7-4bfe-b2ef-8a51c0d4d153",
   "metadata": {},
   "source": [
    "### Regression Loss Functions\n",
    "\n",
    "Includes L1, L2, and Huber Loss"
   ]
  },
  {
   "cell_type": "markdown",
   "id": "6faa6546-4f52-4cca-9393-19460911782d",
   "metadata": {},
   "source": [
    "### Classification Loss Functions\n",
    "\n",
    "Includes Binary Cross-Entropy, Categorical Cross-Entropy, Hinge, and Log Loss"
   ]
  },
  {
   "cell_type": "code",
   "execution_count": null,
   "id": "44195d58-9010-4053-ab7c-beb87b6b38a2",
   "metadata": {},
   "outputs": [],
   "source": [
    "# square loss, cross entropy"
   ]
  }
 ],
 "metadata": {
  "kernelspec": {
   "display_name": "Python 3 (ipykernel)",
   "language": "python",
   "name": "python3"
  },
  "language_info": {
   "codemirror_mode": {
    "name": "ipython",
    "version": 3
   },
   "file_extension": ".py",
   "mimetype": "text/x-python",
   "name": "python",
   "nbconvert_exporter": "python",
   "pygments_lexer": "ipython3",
   "version": "3.11.5"
  }
 },
 "nbformat": 4,
 "nbformat_minor": 5
}
