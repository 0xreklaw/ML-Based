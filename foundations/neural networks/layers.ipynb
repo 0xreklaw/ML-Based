{
 "cells": [
  {
   "cell_type": "code",
   "execution_count": null,
   "id": "c6d566fe",
   "metadata": {},
   "outputs": [],
   "source": [
    "# Layer\n",
    "\n",
    "# Dense Layer\n",
    "\n",
    "# RNN\n",
    "\n",
    "# Conv2D\n",
    "\n",
    "# Batch Normalization\n",
    "\n",
    "# Pooling Layer\n",
    "\n",
    "# Max Pooling 2D\n",
    "\n",
    "# Constant Padding 2D\n",
    "\n",
    "# Zero Padding 2D\n",
    "\n",
    "# Flatten\n",
    "\n",
    "# Up Sampling 2D\n",
    "\n",
    "# Reshape\n",
    "\n",
    "# Dropout\n",
    "\n",
    "# Activation"
   ]
  }
 ],
 "metadata": {
  "kernelspec": {
   "display_name": "Python 3 (ipykernel)",
   "language": "python",
   "name": "python3"
  },
  "language_info": {
   "codemirror_mode": {
    "name": "ipython",
    "version": 3
   },
   "file_extension": ".py",
   "mimetype": "text/x-python",
   "name": "python",
   "nbconvert_exporter": "python",
   "pygments_lexer": "ipython3",
   "version": "3.11.5"
  }
 },
 "nbformat": 4,
 "nbformat_minor": 5
}
