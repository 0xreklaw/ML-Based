{
 "cells": [
  {
   "cell_type": "code",
   "execution_count": 3,
   "id": "cec64913-e4fe-4f1d-9da5-189370ba6496",
   "metadata": {},
   "outputs": [],
   "source": [
    "import cv2\n",
    "import numpy as np"
   ]
  },
  {
   "cell_type": "code",
   "execution_count": 2,
   "id": "7854d7bc-dae0-48c5-a48d-b7dc1b01a702",
   "metadata": {},
   "outputs": [],
   "source": [
    "img_path = '../assets/puppy.jpg'\n",
    "img = cv2.imread(img_path, cv2.IMREAD_COLOR) \n",
    "\n",
    "cv2.imshow('puppy', img)\n"
   ]
  },
  {
   "cell_type": "code",
   "execution_count": 43,
   "id": "fbaa3283-561d-42d1-a71d-56a21266474c",
   "metadata": {},
   "outputs": [],
   "source": [
    "class ConvLayer:\n",
    "    def __init__(self, img):\n",
    "        self.img = cv2.imread(img)\n",
    "\n",
    "    def _max_pool(window):\n",
    "        return np.sum(window)/len(window)\n",
    "\n",
    "    def _mean_pool(window):\n",
    "        return np.max(window)"
   ]
  },
  {
   "cell_type": "code",
   "execution_count": 44,
   "id": "a4998087-202d-4d3e-8569-b5b7ae522a29",
   "metadata": {},
   "outputs": [
    {
     "name": "stdout",
     "output_type": "stream",
     "text": [
      "(1197, 1200, 3)\n"
     ]
    }
   ],
   "source": [
    "i = ConvLayer('../assets/puppy.jpg')\n",
    "\n",
    "print(i.img.shape)"
   ]
  },
  {
   "cell_type": "code",
   "execution_count": 56,
   "id": "8f0cc76c-684a-4e7f-b16f-79127687cf64",
   "metadata": {},
   "outputs": [
    {
     "name": "stdout",
     "output_type": "stream",
     "text": [
      "[0, 10]\n",
      "[20, 30]\n",
      "[40, 50]\n"
     ]
    }
   ],
   "source": [
    "arr = [0, 10, 20, 30, 40, 50, 60]\n",
    "\n",
    "for i in range(0, len(arr) - 1, 2):\n",
    "    print([arr[i], arr[i+1]])"
   ]
  },
  {
   "cell_type": "code",
   "execution_count": 69,
   "id": "bcff02f2-ddaf-456e-911a-9176fef20045",
   "metadata": {},
   "outputs": [
    {
     "name": "stdout",
     "output_type": "stream",
     "text": [
      "10\n",
      "9\n",
      "8\n",
      "5\n",
      "9\n",
      "8\n",
      "5\n",
      "39\n",
      "29\n",
      "45\n",
      "22\n",
      "4\n",
      "53\n",
      "9\n",
      "19\n",
      "52\n",
      "91\n",
      "71\n",
      "3\n",
      "9\n",
      "48\n",
      "42\n",
      "98\n",
      "84\n",
      "9\n",
      "0\n",
      "94\n",
      "29\n",
      "19\n",
      "1\n"
     ]
    }
   ],
   "source": [
    "arr = np.array([\n",
    "    [10, 9, 8, 5, 9],\n",
    "    [8, 5, 39, 29, 45],\n",
    "    [22, 4, 53, 9, 19],\n",
    "    [52, 91, 71, 3, 9],\n",
    "    [48, 42, 98, 84, 9],\n",
    "    [0, 94, 29, 19, 1]\n",
    "])\n",
    "\n",
    "row_len = 5\n",
    "\n",
    "start = 0\n",
    "end = 2\n",
    "\n",
    "for i in arr:\n",
    "    for j in i:\n",
    "        print(j)\n",
    "# for i in range(0, len(arr)):\n",
    "#     for j in range(0, i):\n",
    "#         print(arr[i][j])"
   ]
  },
  {
   "cell_type": "code",
   "execution_count": null,
   "id": "e4913ced-c271-4df3-ac4e-721bd9f3d989",
   "metadata": {},
   "outputs": [],
   "source": []
  }
 ],
 "metadata": {
  "kernelspec": {
   "display_name": "Python 3 (ipykernel)",
   "language": "python",
   "name": "python3"
  },
  "language_info": {
   "codemirror_mode": {
    "name": "ipython",
    "version": 3
   },
   "file_extension": ".py",
   "mimetype": "text/x-python",
   "name": "python",
   "nbconvert_exporter": "python",
   "pygments_lexer": "ipython3",
   "version": "3.11.5"
  }
 },
 "nbformat": 4,
 "nbformat_minor": 5
}
