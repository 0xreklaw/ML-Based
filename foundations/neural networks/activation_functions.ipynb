{
 "cells": [
  {
   "cell_type": "code",
   "execution_count": 4,
   "id": "168292ae",
   "metadata": {},
   "outputs": [],
   "source": [
    "import numpy as np"
   ]
  },
  {
   "cell_type": "markdown",
   "id": "f9fe8058",
   "metadata": {},
   "source": [
    "## Sigmoid\n",
    "\n",
    "![formula](https://www.gstatic.com/education/formulas2/553212783/en/sigmoid_function.svg)"
   ]
  },
  {
   "cell_type": "code",
   "execution_count": 12,
   "id": "ebc282cf-4962-4c21-b184-28110c823103",
   "metadata": {},
   "outputs": [
    {
     "name": "stdout",
     "output_type": "stream",
     "text": [
      "0.8807970779778823\n",
      "0.10499358540350662\n"
     ]
    }
   ],
   "source": [
    "class Sigmoid():\n",
    "    def __call__(self, x):\n",
    "        return 1 / (1 + np.exp(-x))\n",
    "    \n",
    "    def gradient(self, x):\n",
    "        df = self(x) \n",
    "        return df * (1 - df)\n",
    "\n",
    "sigmoid = Sigmoid()\n",
    "print(sigmoid(2))\n",
    "print(sigmoid.gradient(2))"
   ]
  },
  {
   "cell_type": "code",
   "execution_count": 21,
   "id": "f709e942-b750-48b9-99c5-95240f60fb70",
   "metadata": {},
   "outputs": [
    {
     "name": "stdout",
     "output_type": "stream",
     "text": [
      "2\n",
      "0\n"
     ]
    }
   ],
   "source": [
    "class ReLU():\n",
    "    def __call__(self, x):\n",
    "        return np.maximum(0, x)\n",
    "        # return x * (x > 0)\n",
    "    \n",
    "    def gradient(self, x):\n",
    "        x_grad = np.zeros_like(x)\n",
    "        x_grad[x > 0] = 1\n",
    "        return x_grad\n",
    "relu = ReLU()\n",
    "print(relu(2))\n",
    "print(relu.gradient(-1))"
   ]
  },
  {
   "cell_type": "code",
   "execution_count": 1,
   "id": "66c3dcc0",
   "metadata": {},
   "outputs": [],
   "source": [
    "# TanH\n",
    "\n",
    "# Softmax\n",
    "\n",
    "# Leaky Relu\n",
    "\n",
    "# ELU\n",
    "\n",
    "# SoftPlus"
   ]
  },
  {
   "cell_type": "code",
   "execution_count": null,
   "id": "e0dfeee9-8953-46cc-85f0-e1aabe36d521",
   "metadata": {},
   "outputs": [],
   "source": []
  },
  {
   "cell_type": "code",
   "execution_count": null,
   "id": "60bc4bb5-9656-417d-bcc8-ac8b3b25f2dc",
   "metadata": {},
   "outputs": [],
   "source": []
  }
 ],
 "metadata": {
  "kernelspec": {
   "display_name": "Python 3 (ipykernel)",
   "language": "python",
   "name": "python3"
  },
  "language_info": {
   "codemirror_mode": {
    "name": "ipython",
    "version": 3
   },
   "file_extension": ".py",
   "mimetype": "text/x-python",
   "name": "python",
   "nbconvert_exporter": "python",
   "pygments_lexer": "ipython3",
   "version": "3.11.5"
  }
 },
 "nbformat": 4,
 "nbformat_minor": 5
}
