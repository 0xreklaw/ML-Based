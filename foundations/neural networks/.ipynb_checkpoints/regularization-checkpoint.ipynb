{
 "cells": [
  {
   "cell_type": "markdown",
   "id": "6ebcbbf5-9211-43e5-924d-a54f915c15a6",
   "metadata": {},
   "source": [
    "# Regularization"
   ]
  },
  {
   "cell_type": "markdown",
   "id": "3b0bafee-f080-496f-8270-72a1d75c9d0d",
   "metadata": {},
   "source": [
    "#### Further Reading\n",
    "- [Overview](https://towardsdatascience.com/types-of-regularization-in-machine-learning-eb5ce5f9bf50)\n",
    "- [Why?](https://www.quora.com/What-is-the-purpose-of-regularization-in-deep-learning-How-does-it-help-prevent-overfitting)\n",
    "- [Overview with python examples](https://www.analyticsvidhya.com/blog/2018/04/fundamentals-deep-learning-regularization-techniques/)\n",
    "- [Nice visual of dropout](https://www.einfochips.com/blog/regularization-make-your-machine-learning-algorithms-learn-not-memorize/)"
   ]
  },
  {
   "cell_type": "code",
   "execution_count": null,
   "id": "badc3acd-68e3-43c3-9e8a-c989dc07dc7d",
   "metadata": {},
   "outputs": [],
   "source": [
    "#https://towardsdatascience.com/batch-normalization-and-dropout-in-neural-networks-explained-with-pytorch-47d7a8459bcd"
   ]
  },
  {
   "cell_type": "code",
   "execution_count": null,
   "id": "283d032d-d75d-4a4b-92ae-25079546002f",
   "metadata": {},
   "outputs": [],
   "source": []
  }
 ],
 "metadata": {
  "kernelspec": {
   "display_name": "Python 3 (ipykernel)",
   "language": "python",
   "name": "python3"
  },
  "language_info": {
   "codemirror_mode": {
    "name": "ipython",
    "version": 3
   },
   "file_extension": ".py",
   "mimetype": "text/x-python",
   "name": "python",
   "nbconvert_exporter": "python",
   "pygments_lexer": "ipython3",
   "version": "3.11.5"
  }
 },
 "nbformat": 4,
 "nbformat_minor": 5
}
