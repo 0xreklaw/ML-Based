{
 "cells": [
  {
   "cell_type": "code",
   "execution_count": 4,
   "id": "168292ae",
   "metadata": {},
   "outputs": [],
   "source": [
    "import numpy as np"
   ]
  },
  {
   "cell_type": "markdown",
   "id": "f9fe8058",
   "metadata": {},
   "source": [
    "## Sigmoid\n",
    "\n",
    "![formula](https://www.gstatic.com/education/formulas2/553212783/en/sigmoid_function.svg)"
   ]
  },
  {
   "cell_type": "code",
   "execution_count": 12,
   "id": "ebc282cf-4962-4c21-b184-28110c823103",
   "metadata": {},
   "outputs": [
    {
     "name": "stdout",
     "output_type": "stream",
     "text": [
      "0.8807970779778823\n",
      "0.10499358540350662\n"
     ]
    }
   ],
   "source": [
    "class Sigmoid():\n",
    "    def __call__(self, x):\n",
    "        return 1 / (1 + np.exp(-x))\n",
    "    \n",
    "    def gradient(self, x):\n",
    "        df = self(x) \n",
    "        return df * (1 - df)\n",
    "\n",
    "sigmoid = Sigmoid()\n",
    "print(sigmoid(2))\n",
    "print(sigmoid.gradient(2))"
   ]
  },
  {
   "cell_type": "code",
   "execution_count": 17,
   "id": "f709e942-b750-48b9-99c5-95240f60fb70",
   "metadata": {},
   "outputs": [
    {
     "name": "stdout",
     "output_type": "stream",
     "text": [
      "2\n"
     ]
    },
    {
     "ename": "AttributeError",
     "evalue": "'bool' object has no attribute 'astype'",
     "output_type": "error",
     "traceback": [
      "\u001b[0;31m---------------------------------------------------------------------------\u001b[0m",
      "\u001b[0;31mAttributeError\u001b[0m                            Traceback (most recent call last)",
      "Cell \u001b[0;32mIn[17], line 10\u001b[0m\n\u001b[1;32m      8\u001b[0m relu \u001b[38;5;241m=\u001b[39m ReLU()\n\u001b[1;32m      9\u001b[0m \u001b[38;5;28mprint\u001b[39m(relu(\u001b[38;5;241m2\u001b[39m))\n\u001b[0;32m---> 10\u001b[0m \u001b[38;5;28mprint\u001b[39m(\u001b[43mrelu\u001b[49m\u001b[38;5;241;43m.\u001b[39;49m\u001b[43mgradient\u001b[49m\u001b[43m(\u001b[49m\u001b[38;5;241;43m-\u001b[39;49m\u001b[38;5;241;43m1\u001b[39;49m\u001b[43m)\u001b[49m)\n",
      "Cell \u001b[0;32mIn[17], line 7\u001b[0m, in \u001b[0;36mReLU.gradient\u001b[0;34m(self, x)\u001b[0m\n\u001b[1;32m      6\u001b[0m \u001b[38;5;28;01mdef\u001b[39;00m \u001b[38;5;21mgradient\u001b[39m(\u001b[38;5;28mself\u001b[39m, x):\n\u001b[0;32m----> 7\u001b[0m     \u001b[38;5;28;01mreturn\u001b[39;00m \u001b[43m(\u001b[49m\u001b[43mx\u001b[49m\u001b[43m \u001b[49m\u001b[38;5;241;43m>\u001b[39;49m\u001b[43m \u001b[49m\u001b[38;5;241;43m0\u001b[39;49m\u001b[43m)\u001b[49m\u001b[38;5;241;43m.\u001b[39;49m\u001b[43mastype\u001b[49m(\u001b[38;5;28mfloat\u001b[39m)\n",
      "\u001b[0;31mAttributeError\u001b[0m: 'bool' object has no attribute 'astype'"
     ]
    }
   ],
   "source": [
    "class ReLU():\n",
    "    def __call__(self, x):\n",
    "        return np.maximum(0, x)\n",
    "        # return x * (x > 0)\n",
    "    \n",
    "    def gradient(self, x):\n",
    "        x_grad = np.zeros_like(x)\n",
    "relu = ReLU()\n",
    "print(relu(2))\n",
    "print(relu.gradient(-1))"
   ]
  },
  {
   "cell_type": "code",
   "execution_count": 1,
   "id": "66c3dcc0",
   "metadata": {},
   "outputs": [],
   "source": [
    "# TanH\n",
    "\n",
    "# Softmax\n",
    "\n",
    "# Leaky Relu\n",
    "\n",
    "# ELU\n",
    "\n",
    "# SoftPlus"
   ]
  },
  {
   "cell_type": "code",
   "execution_count": null,
   "id": "e0dfeee9-8953-46cc-85f0-e1aabe36d521",
   "metadata": {},
   "outputs": [],
   "source": []
  }
 ],
 "metadata": {
  "kernelspec": {
   "display_name": "Python 3 (ipykernel)",
   "language": "python",
   "name": "python3"
  },
  "language_info": {
   "codemirror_mode": {
    "name": "ipython",
    "version": 3
   },
   "file_extension": ".py",
   "mimetype": "text/x-python",
   "name": "python",
   "nbconvert_exporter": "python",
   "pygments_lexer": "ipython3",
   "version": "3.11.5"
  }
 },
 "nbformat": 4,
 "nbformat_minor": 5
}
