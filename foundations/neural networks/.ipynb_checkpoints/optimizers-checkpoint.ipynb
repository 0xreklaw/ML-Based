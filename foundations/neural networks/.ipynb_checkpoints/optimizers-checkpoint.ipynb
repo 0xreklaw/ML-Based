{
 "cells": [
  {
   "cell_type": "code",
   "execution_count": null,
   "id": "39513832-3580-493a-b76a-ddb47e4112e8",
   "metadata": {},
   "outputs": [],
   "source": [
    "# SGD, Adam, AdamW, Lion, Adan, Ada"
   ]
  }
 ],
 "metadata": {
  "kernelspec": {
   "display_name": "Python 3 (ipykernel)",
   "language": "python",
   "name": "python3"
  },
  "language_info": {
   "codemirror_mode": {
    "name": "ipython",
    "version": 3
   },
   "file_extension": ".py",
   "mimetype": "text/x-python",
   "name": "python",
   "nbconvert_exporter": "python",
   "pygments_lexer": "ipython3",
   "version": "3.11.5"
  }
 },
 "nbformat": 4,
 "nbformat_minor": 5
}
