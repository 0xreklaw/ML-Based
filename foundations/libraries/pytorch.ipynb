{
 "cells": [
  {
   "cell_type": "code",
   "execution_count": 1,
   "id": "672ccfd6-9af1-4422-9850-7fd34710ec8c",
   "metadata": {},
   "outputs": [],
   "source": [
    "import numpy as np\n",
    "import torch"
   ]
  },
  {
   "cell_type": "code",
   "execution_count": 2,
   "id": "c2c09f32-2931-4d87-8ade-2cb7c18621a1",
   "metadata": {},
   "outputs": [
    {
     "data": {
      "text/plain": [
       "<torch._C.Generator at 0x107db2f10>"
      ]
     },
     "execution_count": 2,
     "metadata": {},
     "output_type": "execute_result"
    }
   ],
   "source": [
    "SEED = 1234\n",
    "\n",
    "seed = np.random.seed(SEED)\n",
    "torch.manual_seed(SEED)"
   ]
  },
  {
   "cell_type": "code",
   "execution_count": 9,
   "id": "0654e9ba-ce5f-442f-98ba-f27e302ab679",
   "metadata": {},
   "outputs": [
    {
     "name": "stdout",
     "output_type": "stream",
     "text": [
      "Type torch.FloatTensor\n",
      "Shape torch.Size([2, 3])\n",
      "Values tensor([[ 0.8042, -0.1383,  0.3196],\n",
      "        [-1.0187, -1.3147,  2.5228]])\n",
      "\n"
     ]
    }
   ],
   "source": [
    "x = torch.randn(2, 3)\n",
    "print(f\"Type {x.type()}\")\n",
    "print(f\"Shape {x.shape}\")\n",
    "print(f\"Values {x}\\n\")"
   ]
  },
  {
   "cell_type": "code",
   "execution_count": 12,
   "id": "2c6eb6ed-d564-48c5-8acd-d0f32e2cafc6",
   "metadata": {},
   "outputs": [
    {
     "name": "stdout",
     "output_type": "stream",
     "text": [
      "tensor([[ 0.1816, -0.6797, -0.2567],\n",
      "        [-1.8189,  0.2111,  0.3372]])\n",
      "tensor([[ 0.1816, -1.8189],\n",
      "        [-0.6797,  0.2111],\n",
      "        [-0.2567,  0.3372]])\n"
     ]
    }
   ],
   "source": [
    "# ----------------------\n",
    "# ----------------------\n",
    "# Transpose\n",
    "# ----------------------\n",
    "# ----------------------\n",
    "\n",
    "x = torch.randn(2, 3)\n",
    "xt = torch.t(x)\n",
    "print(x)\n",
    "print(xt)"
   ]
  },
  {
   "cell_type": "code",
   "execution_count": 28,
   "id": "6c28239d-bf4e-422e-85d6-aa0f29ee53dd",
   "metadata": {},
   "outputs": [
    {
     "name": "stdout",
     "output_type": "stream",
     "text": [
      "x:  tensor([[0.7757, 0.4604, 0.0816, 0.7246],\n",
      "        [0.7379, 0.2261, 0.1633, 0.4127],\n",
      "        [0.5980, 0.2471, 0.4880, 0.2839]], requires_grad=True)\n",
      "y:  tensor([[4.3271, 3.3812, 2.2449, 4.1738],\n",
      "        [4.2136, 2.6782, 2.4900, 3.2382],\n",
      "        [3.7941, 2.7414, 3.4639, 2.8518]], grad_fn=<AddBackward0>)\n",
      "z:  tensor(3.2999, grad_fn=<MeanBackward0>)\n",
      "z:  tensor(3.2999, grad_fn=<MeanBackward0>)\n",
      "x gradient:  tensor([[0.2500, 0.2500, 0.2500, 0.2500],\n",
      "        [0.2500, 0.2500, 0.2500, 0.2500],\n",
      "        [0.2500, 0.2500, 0.2500, 0.2500]])\n"
     ]
    }
   ],
   "source": [
    "# ----------------------\n",
    "# ----------------------\n",
    "# Gradients\n",
    "# ----------------------\n",
    "# ----------------------\n",
    "\n",
    "x = torch.rand(3, 4, requires_grad=True)\n",
    "y = 3*x + 2\n",
    "print(\"x: \", x)\n",
    "print(\"y: \", y)\n",
    "\n",
    "z = y.mean()\n",
    "print(\"z: \", z)\n",
    "\n",
    "z.backward() # z has to be scalar\n",
    "\n",
    "print(\"z: \", z)\n",
    "print(\"x gradient: \", x.grad)"
   ]
  },
  {
   "cell_type": "code",
   "execution_count": null,
   "id": "7cf987d4-6295-411c-a28c-43ebcdac0bd1",
   "metadata": {},
   "outputs": [],
   "source": []
  }
 ],
 "metadata": {
  "kernelspec": {
   "display_name": "Python 3 (ipykernel)",
   "language": "python",
   "name": "python3"
  },
  "language_info": {
   "codemirror_mode": {
    "name": "ipython",
    "version": 3
   },
   "file_extension": ".py",
   "mimetype": "text/x-python",
   "name": "python",
   "nbconvert_exporter": "python",
   "pygments_lexer": "ipython3",
   "version": "3.11.5"
  }
 },
 "nbformat": 4,
 "nbformat_minor": 5
}
