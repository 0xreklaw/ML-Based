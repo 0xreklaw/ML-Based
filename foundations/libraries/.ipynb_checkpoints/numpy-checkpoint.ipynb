{
 "cells": [
  {
   "cell_type": "code",
   "execution_count": 1,
   "id": "dc6f74a6-1375-47ee-a65a-3a6d01ab3055",
   "metadata": {},
   "outputs": [],
   "source": [
    "import numpy as np"
   ]
  },
  {
   "cell_type": "code",
   "execution_count": 4,
   "id": "931a8b01-eec3-43ee-8728-987d0f53c24a",
   "metadata": {},
   "outputs": [
    {
     "name": "stdout",
     "output_type": "stream",
     "text": [
      "x:  10\n",
      "x number of dimensions:  0\n",
      "x shape:  ()\n",
      "x size:  1\n",
      "x dtype:  int64\n"
     ]
    }
   ],
   "source": [
    "# ----------------------\n",
    "# ----------------------\n",
    "# scalar value\n",
    "# ----------------------\n",
    "# ----------------------\n",
    "\n",
    "# definition: a scalar value is a singular value\n",
    "\n",
    "x = np.array(10)\n",
    "print(\"x: \", x)\n",
    "print(\"x number of dimensions: \", x.ndim) # number of dimensions\n",
    "print(\"x shape: \", x.shape) # dimensions\n",
    "print(\"x size: \", x.size) # size of elements\n",
    "print(\"x dtype: \", x.dtype) # data type"
   ]
  },
  {
   "cell_type": "code",
   "execution_count": 33,
   "id": "e2578a32-2c7c-44d9-b4b9-614783e92f4c",
   "metadata": {},
   "outputs": [
    {
     "name": "stdout",
     "output_type": "stream",
     "text": [
      "2\n",
      "[1 2 3 4]\n",
      "[1 4]\n",
      "[[5 6]]\n"
     ]
    }
   ],
   "source": [
    "# ----------------------\n",
    "# ----------------------\n",
    "# indexing\n",
    "# ----------------------\n",
    "# ----------------------\n",
    "a = np.array([[1, 2, 3, 4], [4, 5, 6, 7]])\n",
    "\n",
    "# row by column\n",
    "print(a[0, 1]) # index\n",
    "print(a[0, :]) # entire row\n",
    "print(a[:, 0]) # entire column\n",
    "print(a[1:3,1:3])"
   ]
  },
  {
   "cell_type": "code",
   "execution_count": 14,
   "id": "e064945c-b6f4-42f7-aae8-db1ae645226e",
   "metadata": {},
   "outputs": [
    {
     "name": "stdout",
     "output_type": "stream",
     "text": [
      "a + y =  [ 5  7  9 11]\n",
      "a - y =  [-3 -3 -3 -3]\n",
      "a * y =  [ 4 10 18 28]\n"
     ]
    }
   ],
   "source": [
    "# ----------------------\n",
    "# ----------------------\n",
    "# arithmetic\n",
    "# ----------------------\n",
    "# ----------------------\n",
    "a = np.array([1, 2, 3, 4])\n",
    "b = np.array([4, 5, 6, 7])\n",
    "\n",
    "addition = np.add(a, b)\n",
    "subtraction = np.subtract(a, b)\n",
    "multiplication = np.multiply(a, b)\n",
    "\n",
    "print(\"a + y = \", addition)\n",
    "print(\"a - y = \", subtraction)\n",
    "print(\"a * y = \", multiplication)"
   ]
  },
  {
   "cell_type": "code",
   "execution_count": 39,
   "id": "85242253-3744-447e-8788-8e333b3ae91c",
   "metadata": {},
   "outputs": [
    {
     "name": "stdout",
     "output_type": "stream",
     "text": [
      "shape a: (2, 3)\n",
      "shape b: (3, 2)\n",
      "shape c: (2, 2)\n"
     ]
    }
   ],
   "source": [
    "# ----------------------\n",
    "# ----------------------\n",
    "# Dot Product\n",
    "# ----------------------\n",
    "# ----------------------\n",
    "\n",
    "# The dot product measures the similarity between two vectors and indicates how much they point in the same direction\n",
    "\n",
    "# Key Points: \n",
    "# - The dot product provides a measure of the scaled overlap between two vectors\n",
    "# - Higher dot product valyes indicate greater similartiy between two vectors\n",
    "\n",
    "\n",
    "# Helpful Resource: \n",
    "# For a deeper understanding, visit: https://betterexplained.com/articles/vector-calculus-understanding-the-dot-product/\n",
    "\n",
    "a = np.array([[1, 2, 3], [1, 2, 3]], dtype=np.float64) # 2 rows by 3 columns\n",
    "b = np.array([[2, 4], [6, 8], [10, 12]], dtype=np.float64) # 3 rows by 2 columns\n",
    "\n",
    "c = a.dot(b)\n",
    "print(f\"shape a: {a.shape}\\nshape b: {b.shape}\\nshape c: {c.shape}\")"
   ]
  },
  {
   "cell_type": "code",
   "execution_count": 42,
   "id": "35ab91cc-045f-4e90-a275-5b90d8969dbc",
   "metadata": {},
   "outputs": [
    {
     "name": "stdout",
     "output_type": "stream",
     "text": [
      "sum all values: 10\n",
      "sum axis=0: [4 6]\n",
      "sum axis=1: [3 7]\n"
     ]
    }
   ],
   "source": [
    "# ----------------------\n",
    "# ----------------------\n",
    "# Axis Operations\n",
    "# ----------------------\n",
    "# ----------------------\n",
    "\n",
    "# Axis 0 represents rows\n",
    "# Axis 1 represents columns\n",
    "\n",
    "x = np.array([[1, 2], [3, 4]])\n",
    "print(\"sum all values:\", np.sum(x)) # sum all values\n",
    "print(\"sum axis=0:\", np.sum(x, axis=0)) # sum across rows\n",
    "print(\"sum axis=1:\", np.sum(x, axis=1)) # sum across columns"
   ]
  },
  {
   "cell_type": "code",
   "execution_count": 61,
   "id": "4721a788-8b76-4540-a687-3aa1bb67425c",
   "metadata": {},
   "outputs": [
    {
     "name": "stdout",
     "output_type": "stream",
     "text": [
      "a + b = [11 12 13]\n",
      "(3, 1)\n"
     ]
    }
   ],
   "source": [
    "# ----------------------\n",
    "# ----------------------\n",
    "# Broadcasting\n",
    "# ----------------------\n",
    "# ----------------------\n",
    "\n",
    "# broadcasting is used when the dimensions across two or more scalars, vectors, or tensors are not equivalent\n",
    "\n",
    "a = np.array(10) # scalar value\n",
    "b = np.array((1, 2, 3)) # vector value\n",
    "c = np.add(a, b)\n",
    "print(\"a + b =\", c) # notice that the scalar value of \"a\" is broadcasted across vector \"b\"\n",
    "\n",
    "a = np.array((1, 2, 3))\n",
    "b = np.expand_dims(a, axis=1) # b becomes a 3 x 2 vector\n",
    "c = np.add(a, b)\n",
    "# print(a.shape)\n",
    "# print(b.shape)\n",
    "# print(c.shape) # notice how the shape is expanded \n",
    "\n",
    "# to ensure a is the same shape as b we can reshape it\n",
    "a = a.reshape(-1, 1)\n",
    "# print(a.shape)\n",
    "c = np.add(a, b)\n",
    "print(c.shape) # notice that the shape is of 3 x 1"
   ]
  },
  {
   "cell_type": "code",
   "execution_count": 69,
   "id": "896c53f6-70e5-4057-adfe-fb304878cdb4",
   "metadata": {},
   "outputs": [
    {
     "name": "stdout",
     "output_type": "stream",
     "text": [
      "a shape: (2, 3)\n",
      "[[1 2 3]\n",
      " [4 5 6]]\n",
      "\n",
      "\n",
      "at shape: (3, 2)\n",
      "[[1 4]\n",
      " [2 5]\n",
      " [3 6]]\n"
     ]
    }
   ],
   "source": [
    "# ----------------------\n",
    "# ----------------------\n",
    "# Transpose\n",
    "# ----------------------\n",
    "# ----------------------\n",
    "\n",
    "# The transpose transformation flips two axis, such as the rows and columns\n",
    "\n",
    "a = np.array([[1, 2, 3], [4, 5, 6]])\n",
    "print(f\"a shape: {a.shape}\")\n",
    "print(a)\n",
    "\n",
    "print(\"\\n\")\n",
    "\n",
    "at = np.transpose(a, (1, 0)) # flips dimensions at index 0 and 1\n",
    "print(f\"at shape: {at.shape}\")\n",
    "print(at)"
   ]
  },
  {
   "cell_type": "code",
   "execution_count": null,
   "id": "335fbcf8-6459-4622-b6f9-221c63ff63b7",
   "metadata": {},
   "outputs": [],
   "source": []
  }
 ],
 "metadata": {
  "kernelspec": {
   "display_name": "Python 3 (ipykernel)",
   "language": "python",
   "name": "python3"
  },
  "language_info": {
   "codemirror_mode": {
    "name": "ipython",
    "version": 3
   },
   "file_extension": ".py",
   "mimetype": "text/x-python",
   "name": "python",
   "nbconvert_exporter": "python",
   "pygments_lexer": "ipython3",
   "version": "3.11.5"
  }
 },
 "nbformat": 4,
 "nbformat_minor": 5
}
