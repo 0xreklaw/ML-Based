{
 "cells": [
  {
   "cell_type": "code",
   "execution_count": 1,
   "id": "672ccfd6-9af1-4422-9850-7fd34710ec8c",
   "metadata": {},
   "outputs": [],
   "source": [
    "import numpy as np\n",
    "import torch"
   ]
  },
  {
   "cell_type": "code",
   "execution_count": 2,
   "id": "c2c09f32-2931-4d87-8ade-2cb7c18621a1",
   "metadata": {},
   "outputs": [
    {
     "data": {
      "text/plain": [
       "<torch._C.Generator at 0x107db2f10>"
      ]
     },
     "execution_count": 2,
     "metadata": {},
     "output_type": "execute_result"
    }
   ],
   "source": [
    "SEED = 1234\n",
    "\n",
    "seed = np.random.seed(SEED)\n",
    "torch.manual_seed(SEED)"
   ]
  },
  {
   "cell_type": "code",
   "execution_count": 8,
   "id": "0654e9ba-ce5f-442f-98ba-f27e302ab679",
   "metadata": {},
   "outputs": [
    {
     "name": "stdout",
     "output_type": "stream",
     "text": [
      "Type torch.FloatTensor\n",
      "Shape torch.Size([2, 3])\n",
      "Values tensor([[ 0.1922,  0.0918, -0.8625],\n",
      "        [ 0.1596,  0.8184, -0.7649]])\n",
      "\n"
     ]
    }
   ],
   "source": [
    "# row by column\n",
    "x = torch.randn(2, 3)\n",
    "print(f\"Type {x.type()}\")\n",
    "print(f\"Shape {x.shape}\")\n",
    "print(f\"Values {x}\\n\")"
   ]
  },
  {
   "cell_type": "code",
   "execution_count": null,
   "id": "2c6eb6ed-d564-48c5-8acd-d0f32e2cafc6",
   "metadata": {},
   "outputs": [],
   "source": []
  }
 ],
 "metadata": {
  "kernelspec": {
   "display_name": "Python 3 (ipykernel)",
   "language": "python",
   "name": "python3"
  },
  "language_info": {
   "codemirror_mode": {
    "name": "ipython",
    "version": 3
   },
   "file_extension": ".py",
   "mimetype": "text/x-python",
   "name": "python",
   "nbconvert_exporter": "python",
   "pygments_lexer": "ipython3",
   "version": "3.11.5"
  }
 },
 "nbformat": 4,
 "nbformat_minor": 5
}
