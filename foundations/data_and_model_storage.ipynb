{
 "cells": [
  {
   "cell_type": "markdown",
   "id": "d1ffe244",
   "metadata": {},
   "source": [
    "# Data and model Storage"
   ]
  },
  {
   "cell_type": "code",
   "execution_count": null,
   "id": "1c210a73",
   "metadata": {},
   "outputs": [],
   "source": [
    "# Pickle\n",
    "# TensorFlow (XDLITE)\n",
    "# HDF5"
   ]
  }
 ],
 "metadata": {
  "kernelspec": {
   "display_name": "Python 3 (ipykernel)",
   "language": "python",
   "name": "python3"
  },
  "language_info": {
   "codemirror_mode": {
    "name": "ipython",
    "version": 3
   },
   "file_extension": ".py",
   "mimetype": "text/x-python",
   "name": "python",
   "nbconvert_exporter": "python",
   "pygments_lexer": "ipython3",
   "version": "3.11.5"
  }
 },
 "nbformat": 4,
 "nbformat_minor": 5
}
