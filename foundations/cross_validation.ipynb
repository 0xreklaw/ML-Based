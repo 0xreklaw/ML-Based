{
 "cells": [
  {
   "cell_type": "markdown",
   "id": "1424f255-06cc-4889-94b0-f4503237a165",
   "metadata": {},
   "source": [
    "# Cross Validation"
   ]
  },
  {
   "cell_type": "markdown",
   "id": "df64b325-72df-4d73-8907-faf562736a17",
   "metadata": {},
   "source": [
    "#### Further Reading\n",
    "- [Overview of Types](https://towardsdatascience.com/understanding-8-types-of-cross-validation-80c935a4976d)\n",
    "- [Importance of Cross Validation](https://towardsdatascience.com/the-importance-of-cross-validation-in-machine-learning-35b728bbce33#:~:text=The%20main%20advantage%20of%20cross,common%20problem%20in%20machine%20learning.)"
   ]
  },
  {
   "cell_type": "code",
   "execution_count": null,
   "id": "e476d104-ea98-4675-9db5-5da09e88b4c5",
   "metadata": {},
   "outputs": [],
   "source": []
  }
 ],
 "metadata": {
  "kernelspec": {
   "display_name": "Python 3 (ipykernel)",
   "language": "python",
   "name": "python3"
  },
  "language_info": {
   "codemirror_mode": {
    "name": "ipython",
    "version": 3
   },
   "file_extension": ".py",
   "mimetype": "text/x-python",
   "name": "python",
   "nbconvert_exporter": "python",
   "pygments_lexer": "ipython3",
   "version": "3.11.5"
  }
 },
 "nbformat": 4,
 "nbformat_minor": 5
}
