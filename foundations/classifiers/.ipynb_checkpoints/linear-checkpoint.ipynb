{
 "cells": [
  {
   "cell_type": "markdown",
   "id": "3be7ef80-fd70-47e6-8bc8-ad5f075b080b",
   "metadata": {},
   "source": [
    "# Linear Classifier\n",
    "\n",
    "The linear classifier is a binary classifer. Given the function f(x), we are able to decide if an input is falls between one class or another."
   ]
  },
  {
   "cell_type": "code",
   "execution_count": null,
   "id": "473f77e9-cdf0-46a8-bc6b-c20d5f2c7fdc",
   "metadata": {},
   "outputs": [],
   "source": []
  }
 ],
 "metadata": {
  "kernelspec": {
   "display_name": "Python 3 (ipykernel)",
   "language": "python",
   "name": "python3"
  },
  "language_info": {
   "codemirror_mode": {
    "name": "ipython",
    "version": 3
   },
   "file_extension": ".py",
   "mimetype": "text/x-python",
   "name": "python",
   "nbconvert_exporter": "python",
   "pygments_lexer": "ipython3",
   "version": "3.11.5"
  }
 },
 "nbformat": 4,
 "nbformat_minor": 5
}
