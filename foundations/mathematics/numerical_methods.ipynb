{
 "cells": [
  {
   "cell_type": "code",
   "execution_count": null,
   "id": "4a094ec0-6a00-4b79-88c8-dd5e3c7fdcf7",
   "metadata": {},
   "outputs": [],
   "source": [
    "# Numerical Methods\n",
    "In this notebook you will learn about numerical methods"
   ]
  },
  {
   "cell_type": "markdown",
   "id": "bbaf564e-87e1-4f0b-a0d9-e2d22afddf4d",
   "metadata": {},
   "source": [
    "### Numerical Linear ALgebra\n",
    "- Linear Systems\n",
    "- Matrix Factorizations"
   ]
  },
  {
   "cell_type": "markdown",
   "id": "9007a0e3-b9d7-4a5f-8e2c-3a6993f9e33c",
   "metadata": {},
   "source": [
    "### Numerical Optimization\n",
    "- Gradient Descent\n",
    "- Newton's Method\n",
    "- Quasi-Newton Methods"
   ]
  },
  {
   "cell_type": "markdown",
   "id": "393eaafe-bccb-4102-86cd-f54693ad2267",
   "metadata": {},
   "source": [
    "### Numerical Integration and Differentiation\n",
    "- Applications of solving differential equations that arise in machine learning"
   ]
  }
 ],
 "metadata": {
  "kernelspec": {
   "display_name": "Python 3 (ipykernel)",
   "language": "python",
   "name": "python3"
  },
  "language_info": {
   "codemirror_mode": {
    "name": "ipython",
    "version": 3
   },
   "file_extension": ".py",
   "mimetype": "text/x-python",
   "name": "python",
   "nbconvert_exporter": "python",
   "pygments_lexer": "ipython3",
   "version": "3.11.5"
  }
 },
 "nbformat": 4,
 "nbformat_minor": 5
}
