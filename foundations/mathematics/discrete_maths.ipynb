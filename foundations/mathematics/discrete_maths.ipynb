{
 "cells": [
  {
   "cell_type": "markdown",
   "id": "98502903-f3f5-47af-8d3a-02f694618fc2",
   "metadata": {},
   "source": [
    "# Discrete Maths\n",
    "In this notebook you will learn about discrete maths"
   ]
  },
  {
   "cell_type": "markdown",
   "id": "e54d078b-9162-4bea-bdf5-978ebf724a18",
   "metadata": {},
   "source": [
    "### Set Theory"
   ]
  },
  {
   "cell_type": "markdown",
   "id": "84a640fe-724d-4abe-a159-01265dd09a93",
   "metadata": {},
   "source": [
    "### Graph Theory"
   ]
  },
  {
   "cell_type": "markdown",
   "id": "28e76668-790d-4dc4-8d2a-4931885f8402",
   "metadata": {},
   "source": [
    "### Combinatorics"
   ]
  },
  {
   "cell_type": "markdown",
   "id": "7f6707cc-4712-490c-a748-ef82a793246a",
   "metadata": {},
   "source": [
    "### Boolean Algebra"
   ]
  }
 ],
 "metadata": {
  "kernelspec": {
   "display_name": "Python 3 (ipykernel)",
   "language": "python",
   "name": "python3"
  },
  "language_info": {
   "codemirror_mode": {
    "name": "ipython",
    "version": 3
   },
   "file_extension": ".py",
   "mimetype": "text/x-python",
   "name": "python",
   "nbconvert_exporter": "python",
   "pygments_lexer": "ipython3",
   "version": "3.11.5"
  }
 },
 "nbformat": 4,
 "nbformat_minor": 5
}
