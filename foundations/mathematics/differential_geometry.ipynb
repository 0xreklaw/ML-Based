{
 "cells": [
  {
   "cell_type": "markdown",
   "id": "e9b373f1-7617-4b1f-9338-2175da5da324",
   "metadata": {},
   "source": [
    "# Differential Geometry\n",
    "In this notebook you will learn about differential geometry"
   ]
  },
  {
   "cell_type": "markdown",
   "id": "38f79848-ec67-432e-93aa-0f75321812ef",
   "metadata": {},
   "source": [
    "### Manifolds"
   ]
  },
  {
   "cell_type": "markdown",
   "id": "76943e03-d626-4523-b192-3e30b7b2215c",
   "metadata": {},
   "source": [
    "### Lie Groups"
   ]
  }
 ],
 "metadata": {
  "kernelspec": {
   "display_name": "Python 3 (ipykernel)",
   "language": "python",
   "name": "python3"
  },
  "language_info": {
   "codemirror_mode": {
    "name": "ipython",
    "version": 3
   },
   "file_extension": ".py",
   "mimetype": "text/x-python",
   "name": "python",
   "nbconvert_exporter": "python",
   "pygments_lexer": "ipython3",
   "version": "3.11.5"
  }
 },
 "nbformat": 4,
 "nbformat_minor": 5
}
