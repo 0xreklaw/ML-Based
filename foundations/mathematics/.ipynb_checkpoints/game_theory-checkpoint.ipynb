{
 "cells": [
  {
   "cell_type": "markdown",
   "id": "b21fb31d-818f-408c-b7e3-2651ff800722",
   "metadata": {},
   "source": [
    "# Game Theory\n",
    "In this notebook you will learn about game theory"
   ]
  },
  {
   "cell_type": "markdown",
   "id": "7d1a0131-74c3-4b33-bc7f-edcbab8c4e31",
   "metadata": {},
   "source": [
    "### Nash Equilibria"
   ]
  },
  {
   "cell_type": "markdown",
   "id": "0191bbfa-922f-4c2b-9ed6-b2486a6ea002",
   "metadata": {},
   "source": [
    "### Sequential Games"
   ]
  }
 ],
 "metadata": {
  "kernelspec": {
   "display_name": "Python 3 (ipykernel)",
   "language": "python",
   "name": "python3"
  },
  "language_info": {
   "codemirror_mode": {
    "name": "ipython",
    "version": 3
   },
   "file_extension": ".py",
   "mimetype": "text/x-python",
   "name": "python",
   "nbconvert_exporter": "python",
   "pygments_lexer": "ipython3",
   "version": "3.11.5"
  }
 },
 "nbformat": 4,
 "nbformat_minor": 5
}
