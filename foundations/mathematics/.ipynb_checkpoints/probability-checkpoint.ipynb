{
 "cells": [
  {
   "cell_type": "markdown",
   "id": "a41926d9-bdd7-4f5a-9097-cf269201eed1",
   "metadata": {},
   "source": [
    "# Probability\n",
    "In this notebook you will learn about probability"
   ]
  },
  {
   "cell_type": "markdown",
   "id": "f01118f8-c5db-4742-b3c4-e4e1ecfc2791",
   "metadata": {},
   "source": [
    "### Probability Theory\n",
    "- Axioms\n",
    "- Conditional Probability\n",
    "- Bayes' Theorem"
   ]
  },
  {
   "cell_type": "markdown",
   "id": "359a7f9c-68fe-4a02-b9a4-b21c97cda265",
   "metadata": {},
   "source": [
    "### Random Variables\n",
    "- Discrete and Continuous Variables\n",
    "- Probability Distributions"
   ]
  },
  {
   "cell_type": "markdown",
   "id": "4bee08b6-0088-4d81-b44d-a49a7d80f18d",
   "metadata": {},
   "source": [
    "### Expectation and Variance\n",
    "- Moments of a Distribution\n",
    "- Covariance\n",
    "- Correlation"
   ]
  },
  {
   "cell_type": "markdown",
   "id": "f9166f5d-4b13-4196-89b5-5aa6c18501a0",
   "metadata": {},
   "source": [
    "### Common Distributions\n",
    "- Bernoulli\n",
    "- Binomial\n",
    "- Poisson\n",
    "- Normal\n",
    "- Uniform"
   ]
  },
  {
   "cell_type": "markdown",
   "id": "72f228bc-9f75-4328-ae92-95542e7e2e7a",
   "metadata": {},
   "source": [
    "### Stochastic Processes"
   ]
  },
  {
   "cell_type": "markdown",
   "id": "841315f8-7c9b-4a55-9ec9-a6b99eeca00c",
   "metadata": {},
   "source": [
    "### Bayesian Filtering\n",
    "- Kalman Filters\n",
    "- Particle Filters\n",
    "- Hidden Markov Models"
   ]
  }
 ],
 "metadata": {
  "kernelspec": {
   "display_name": "Python 3 (ipykernel)",
   "language": "python",
   "name": "python3"
  },
  "language_info": {
   "codemirror_mode": {
    "name": "ipython",
    "version": 3
   },
   "file_extension": ".py",
   "mimetype": "text/x-python",
   "name": "python",
   "nbconvert_exporter": "python",
   "pygments_lexer": "ipython3",
   "version": "3.11.5"
  }
 },
 "nbformat": 4,
 "nbformat_minor": 5
}
