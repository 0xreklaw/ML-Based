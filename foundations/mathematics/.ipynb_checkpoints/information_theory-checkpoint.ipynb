{
 "cells": [
  {
   "cell_type": "markdown",
   "id": "0a93af16-e353-40d3-966c-504e995d517a",
   "metadata": {},
   "source": [
    "# Information Theory\n",
    "In this notebook you will learn about information theory"
   ]
  },
  {
   "cell_type": "markdown",
   "id": "1c16e702-ab85-44ea-a550-a7f1a198aa2b",
   "metadata": {},
   "source": [
    "### Entropy"
   ]
  },
  {
   "cell_type": "markdown",
   "id": "cdaec0d5-41c4-4308-aa7d-152edaf75e58",
   "metadata": {},
   "source": [
    "### Information Gain"
   ]
  },
  {
   "cell_type": "markdown",
   "id": "80b528fb-0851-4371-9d17-6fe964a0bc2d",
   "metadata": {},
   "source": [
    "### Kullback-Leibler Divergence"
   ]
  },
  {
   "cell_type": "markdown",
   "id": "a57adea1-38ff-482c-8adc-762036e4efa9",
   "metadata": {},
   "source": [
    "### Mutual Information"
   ]
  }
 ],
 "metadata": {
  "kernelspec": {
   "display_name": "Python 3 (ipykernel)",
   "language": "python",
   "name": "python3"
  },
  "language_info": {
   "codemirror_mode": {
    "name": "ipython",
    "version": 3
   },
   "file_extension": ".py",
   "mimetype": "text/x-python",
   "name": "python",
   "nbconvert_exporter": "python",
   "pygments_lexer": "ipython3",
   "version": "3.11.5"
  }
 },
 "nbformat": 4,
 "nbformat_minor": 5
}
