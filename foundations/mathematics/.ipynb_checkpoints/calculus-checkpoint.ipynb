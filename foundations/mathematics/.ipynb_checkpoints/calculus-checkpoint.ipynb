{
 "cells": [
  {
   "cell_type": "markdown",
   "id": "afbf7967-ad2d-4795-aada-9d1e80936352",
   "metadata": {},
   "source": [
    "# Calculus\n",
    "In this notebook you will learn about calculus"
   ]
  },
  {
   "cell_type": "markdown",
   "id": "b1927638-dfc0-4b7b-997f-2e2947e5a6e5",
   "metadata": {},
   "source": [
    "### Differential Calculus\n",
    "- Derivatives\n",
    "- Gradient\n",
    "- Chain Rule"
   ]
  },
  {
   "cell_type": "markdown",
   "id": "eeabbd86-6290-42ce-9997-5afbb61f8a8d",
   "metadata": {},
   "source": [
    "### Integral Calculus\n",
    "- Integrals\n",
    "- Fundamental Theorem of Calculus\n",
    "- Integration Techniques"
   ]
  },
  {
   "cell_type": "markdown",
   "id": "f5aeb722-143d-4108-848e-520fe8c43b24",
   "metadata": {},
   "source": [
    "### Multivariable Calculus\n",
    "- Partial Derivatives\n",
    "- Multiple Integrals\n",
    "- Jacobians"
   ]
  },
  {
   "cell_type": "markdown",
   "id": "87354c0f-e7bf-44a6-a0c6-6fad580bf58b",
   "metadata": {},
   "source": [
    "### Optimization\n",
    "- Local and Global Maxima/Minima\n",
    "- Convex Optimization\n",
    "- Lagrange Multipliers"
   ]
  },
  {
   "cell_type": "markdown",
   "id": "c12c005f-824c-4340-8902-333a68997083",
   "metadata": {},
   "source": [
    "### Continuous Control"
   ]
  },
  {
   "cell_type": "markdown",
   "id": "a77a97bd-fef4-4a50-a02d-e363dd5f5cbf",
   "metadata": {},
   "source": [
    "### Optimal Control\n",
    "- Variations\n",
    "- Pontryagin's Mimimum Principle for trajectory optimization"
   ]
  }
 ],
 "metadata": {
  "kernelspec": {
   "display_name": "Python 3 (ipykernel)",
   "language": "python",
   "name": "python3"
  },
  "language_info": {
   "codemirror_mode": {
    "name": "ipython",
    "version": 3
   },
   "file_extension": ".py",
   "mimetype": "text/x-python",
   "name": "python",
   "nbconvert_exporter": "python",
   "pygments_lexer": "ipython3",
   "version": "3.11.5"
  }
 },
 "nbformat": 4,
 "nbformat_minor": 5
}
