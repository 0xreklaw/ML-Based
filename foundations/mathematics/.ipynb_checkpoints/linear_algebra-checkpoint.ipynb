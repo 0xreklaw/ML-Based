{
 "cells": [
  {
   "cell_type": "markdown",
   "id": "9faa2fd3-8387-4f74-95b2-57e28c05dcf2",
   "metadata": {},
   "source": [
    "# Linear Algebra\n",
    "In this notebook you will learn about linear algebra\n",
    "\n",
    "Here are a few resources I found helpful:\n",
    "- [Textbooks](https://math.libretexts.org/Bookshelves/Linear_Algebra)\n",
    "- [Khan Academy](https://www.khanacademy.org/math/linear-algebra)"
   ]
  },
  {
   "cell_type": "markdown",
   "id": "89951255-5f5a-4720-b1f6-e1b3c05e4233",
   "metadata": {},
   "source": [
    "### Vectors and Spaces\n",
    "- Vector Spaces\n",
    "- Subspaces\n",
    "- Basis\n",
    "- Dimensions"
   ]
  },
  {
   "cell_type": "markdown",
   "id": "5adb9bda",
   "metadata": {},
   "source": [
    "### Vector\n",
    "A vector is a mathematical object composed of both magnitude and direction. It is commonly represented as an ordered pair or column vector. For example, the vector v = (4, 2) represents a movement of 4 units in the horizontal direction and 2 units in the vertical direction.\n",
    "\n",
    "#### Scalar Multiplication Effects:\n",
    "\n",
    "- Change in direction: Multiplying a vector by -1 reverses its direction. For example, -1 * v = (-4, -2) represents a movement in the opposite direction.\n",
    "\n",
    "- Change in magnitude: Scaling a vector by a scalar factor affects its magnitude. For instance, 2 * v = (8, 4) represents a doubling of the original magnitude.\n",
    "\n",
    "- Change in both magnitude and direction: A combination of scalar multiplication and direction reversal results in changes to both magnitude and direction. For instance, -2 * v = (-8, -4) represents a movement in the opposite direction with doubled magnitude.\n",
    "\n",
    "### Unit Vectors\n",
    "A unit vector is a vector with a magnitude of 1, used to indicate direction in a given space. It is obtained by dividing a vector by its magnitude.\n",
    "\n",
    "\n",
    "For a vector v represented by coordinates (x, y), its unit vector u is calculated as:\n",
    "\n",
    "\n",
    "u = v / ||v||\n",
    "\n",
    "\n",
    "**Where:**\n",
    "\n",
    "u is the unit vector.\n",
    "\n",
    "v is the original vector.\n",
    "\n",
    "||v|| denotes the magnitude of the vector v.\n",
    "For example, for the vector (3, 4), the unit vector can be expressed as:\n",
    "\n",
    "u = (3, 4) / sqrt(3^2 + 4^2)\n",
    "u = (3/5, 4/5)\n",
    "\n",
    "This unit vector represents the direction of the original vector (3, 4) with a magnitude of 1.\n",
    "\n",
    "\n",
    "### Dot Product\n",
    "\n",
    "### Cross Product\n",
    "\n",
    "[Good video on intuition for dot and cross products](https://www.khanacademy.org/math/linear-algebra/vectors-and-spaces/dot-cross-products/v/dot-and-cross-product-comparison-intuition)"
   ]
  },
  {
   "cell_type": "markdown",
   "id": "4f1520a6-ca7d-45fa-bd4f-b7a76153e635",
   "metadata": {},
   "source": [
    "### Matrix Algebra\n",
    "- Matrix Operations\n",
    "- Types of Matrices\n",
    "- Rank\n",
    "- Determinant"
   ]
  },
  {
   "cell_type": "markdown",
   "id": "9c38daca-3e87-4df3-ae87-96177b485ea9",
   "metadata": {},
   "source": [
    "### Eigenvalues and Eigenvectors\n",
    "- Spectral Decomposition\n",
    "- Eigendecomposition of a matrix"
   ]
  },
  {
   "cell_type": "markdown",
   "id": "108f545b-c70e-49ca-9f9d-fb5b8a467024",
   "metadata": {},
   "source": [
    "### Singular Value Decomposition (SVD)\n",
    "- Applications in dimensionality reduction and data compression"
   ]
  },
  {
   "cell_type": "markdown",
   "id": "e0697fc1-803b-4d42-a604-25decf36fbed",
   "metadata": {},
   "source": [
    "### Linear Transformations\n",
    "- Matrix Transformations\n",
    "- Change of Basis\n",
    "- Applications to Neural Networks"
   ]
  },
  {
   "cell_type": "markdown",
   "id": "3d08889c-f49a-4920-b9b7-ecc7ac394487",
   "metadata": {},
   "source": [
    "### Kinematics and Dynamics\n",
    "- Transformation matrices\n",
    "- Rotational matrices\n",
    "- Quaternions\n",
    "- Denavit-Hartenberg convention for robotic arm kinematics."
   ]
  },
  {
   "cell_type": "markdown",
   "id": "4ce1df90-481a-46f6-afac-223d6ba76c3a",
   "metadata": {},
   "source": [
    "### State-Space Representation"
   ]
  }
 ],
 "metadata": {
  "kernelspec": {
   "display_name": "Python 3 (ipykernel)",
   "language": "python",
   "name": "python3"
  },
  "language_info": {
   "codemirror_mode": {
    "name": "ipython",
    "version": 3
   },
   "file_extension": ".py",
   "mimetype": "text/x-python",
   "name": "python",
   "nbconvert_exporter": "python",
   "pygments_lexer": "ipython3",
   "version": "3.11.5"
  }
 },
 "nbformat": 4,
 "nbformat_minor": 5
}
