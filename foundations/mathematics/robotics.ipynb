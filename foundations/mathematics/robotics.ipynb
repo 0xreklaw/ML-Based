{
 "cells": [
  {
   "cell_type": "markdown",
   "id": "5d7e79b3-0e1a-48aa-b824-a23d345fd140",
   "metadata": {},
   "source": [
    "# Robotics\n",
    "In this notebook you will learn about robotic specific algorithms"
   ]
  },
  {
   "cell_type": "markdown",
   "id": "a5ac6750-05cf-4fad-ac69-34e28b8e9645",
   "metadata": {},
   "source": [
    "### Simultaneous Localization and Mapping"
   ]
  },
  {
   "cell_type": "markdown",
   "id": "bcd4eeb1-d40e-43f1-97e7-a0cf75799e8e",
   "metadata": {},
   "source": [
    "### Path Finding\n",
    "- Dijkstra's Shortest Path\n",
    "- A*\n",
    "- RRT"
   ]
  },
  {
   "cell_type": "markdown",
   "id": "c32571c6-6212-4c74-938d-0a57d4befedc",
   "metadata": {},
   "source": [
    "### Motion Planning"
   ]
  }
 ],
 "metadata": {
  "kernelspec": {
   "display_name": "Python 3 (ipykernel)",
   "language": "python",
   "name": "python3"
  },
  "language_info": {
   "codemirror_mode": {
    "name": "ipython",
    "version": 3
   },
   "file_extension": ".py",
   "mimetype": "text/x-python",
   "name": "python",
   "nbconvert_exporter": "python",
   "pygments_lexer": "ipython3",
   "version": "3.11.5"
  }
 },
 "nbformat": 4,
 "nbformat_minor": 5
}
