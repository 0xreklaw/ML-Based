{
 "cells": [
  {
   "cell_type": "markdown",
   "id": "6ca30961-1371-48eb-896a-e0762a87da93",
   "metadata": {},
   "source": [
    "# Statistics\n",
    "In this notebook you will learn about statistics"
   ]
  },
  {
   "cell_type": "markdown",
   "id": "39680ad9-ca19-4b31-8a64-81c21ec5269c",
   "metadata": {},
   "source": [
    "### Descriptive Statistics\n",
    "- Measure of Central Tendency\n",
    "- Measures of Dispersion"
   ]
  },
  {
   "cell_type": "markdown",
   "id": "437378cb-bd1b-4a1e-8f53-273c7a375e9e",
   "metadata": {},
   "source": [
    "### Inferntial Statistics\n",
    "- Hypothesis testing\n",
    "- Confidence Intervals\n",
    "- P-values"
   ]
  },
  {
   "cell_type": "markdown",
   "id": "14db801e-2c9e-4865-b61a-879cf0a534fa",
   "metadata": {},
   "source": [
    "### Bayesian Statistics\n",
    "- Bayesian Inference\n",
    "- Prior and Posterior Distributions"
   ]
  },
  {
   "cell_type": "markdown",
   "id": "40393ce2-5b27-42db-83bb-dfe06dcf150b",
   "metadata": {},
   "source": [
    "### Statistical Modeling\n",
    "- Regression Analysis\n",
    "- ANOVA\n",
    "- Generalized Linear Models"
   ]
  },
  {
   "cell_type": "markdown",
   "id": "197fa4a5-ea6f-4060-aa79-6ac3a9e4a6e9",
   "metadata": {},
   "source": [
    "### Markov Processes"
   ]
  }
 ],
 "metadata": {
  "kernelspec": {
   "display_name": "Python 3 (ipykernel)",
   "language": "python",
   "name": "python3"
  },
  "language_info": {
   "codemirror_mode": {
    "name": "ipython",
    "version": 3
   },
   "file_extension": ".py",
   "mimetype": "text/x-python",
   "name": "python",
   "nbconvert_exporter": "python",
   "pygments_lexer": "ipython3",
   "version": "3.11.5"
  }
 },
 "nbformat": 4,
 "nbformat_minor": 5
}
