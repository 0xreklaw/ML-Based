{
 "cells": [
  {
   "cell_type": "markdown",
   "id": "6ca30961-1371-48eb-896a-e0762a87da93",
   "metadata": {},
   "source": [
    "# Statistics\n",
    "In this notebook you will learn about statistics"
   ]
  },
  {
   "cell_type": "markdown",
   "id": "39680ad9-ca19-4b31-8a64-81c21ec5269c",
   "metadata": {},
   "source": [
    "### Descriptive Statistics\n",
    "- Measure of Central Tendency\n",
    "- Measures of Dispersion"
   ]
  },
  {
   "cell_type": "markdown",
   "id": "437378cb-bd1b-4a1e-8f53-273c7a375e9e",
   "metadata": {},
   "source": [
    "### Inferntial Statistics\n",
    "- Hypothesis testing\n",
    "- Confidence Intervals\n",
    "- P-values"
   ]
  },
  {
   "cell_type": "markdown",
   "id": "14db801e-2c9e-4865-b61a-879cf0a534fa",
   "metadata": {},
   "source": [
    "### Bayesian Statistics\n",
    "- Bayesian Inference\n",
    "- Prior and Posterior Distributions"
   ]
  },
  {
   "cell_type": "markdown",
   "id": "40393ce2-5b27-42db-83bb-dfe06dcf150b",
   "metadata": {},
   "source": [
    "### Statistical Modeling\n",
    "- Regression Analysis\n",
    "- ANOVA\n",
    "- Generalized Linear Models"
   ]
  },
  {
   "cell_type": "markdown",
   "id": "197fa4a5-ea6f-4060-aa79-6ac3a9e4a6e9",
   "metadata": {},
   "source": [
    "### Markov Processes"
   ]
  },
  {
   "cell_type": "markdown",
   "id": "65f9c657-e87c-4899-ac01-2a516adaff12",
   "metadata": {},
   "source": [
    "### Moving Average\n",
    "- [Wikipedia](https://en.wikipedia.org/wiki/Moving_average)"
   ]
  },
  {
   "cell_type": "markdown",
   "id": "9ae506f4-2167-4c90-a4fa-0d07d62d90e0",
   "metadata": {},
   "source": [
    "#### Simple Moving Average\n",
    "![image](https://wikimedia.org/api/rest_v1/media/math/render/svg/98e0c2d28bd25794ca4cac22bbd381fc84f2210d)\n",
    "![image](https://wikimedia.org/api/rest_v1/media/math/render/svg/32c76c2a9899a7a1c9ca5055eee5dc57aca71003)"
   ]
  },
  {
   "cell_type": "code",
   "execution_count": 33,
   "id": "f4423c2c-9acb-4fd0-b46d-b13ad4f720e1",
   "metadata": {},
   "outputs": [
    {
     "name": "stdout",
     "output_type": "stream",
     "text": [
      "[12 12 12 12 11 11 11 12 12 12]\n"
     ]
    }
   ],
   "source": [
    "# EMA = (Price(t) * k) + (EMA(y) * (1 – k))\n",
    "\n",
    "# Where:\n",
    "# Price(t) is the price at time (t)\n",
    "# EMA(y) is the previous period’s EMA\n",
    "# k is the smoothing constant, which is typically set at 2/(n+1) where n is the number of periods for the EMA\n",
    "\n",
    "import numpy as np\n",
    "\n",
    "prices = np.array([12, 15, 14, 15, 12, 14, 16, 20, 17, 14])\n",
    "alpha = 2 / (len(prices) + 1)\n",
    "\n",
    "filtered_prices = np.zeros_like(prices)\n",
    "filtered_prices[0] = prices[0]  # Initialize the first value of the filtered_prices array\n",
    "\n",
    "for i in range(1, len(prices)):\n",
    "    filtered = (prices[i] * alpha) + (filtered_prices[i - 1] * (1 - alpha))\n",
    "    filtered_prices[i] = filtered\n",
    "\n",
    "print(filtered_prices)\n",
    "\n",
    "\n",
    "# plt.plot(prices)\n",
    "# plt.show()"
   ]
  },
  {
   "cell_type": "code",
   "execution_count": null,
   "id": "248e95b7-2a7c-40e2-bd5a-72d49fcf5c79",
   "metadata": {},
   "outputs": [],
   "source": []
  }
 ],
 "metadata": {
  "kernelspec": {
   "display_name": "Python 3 (ipykernel)",
   "language": "python",
   "name": "python3"
  },
  "language_info": {
   "codemirror_mode": {
    "name": "ipython",
    "version": 3
   },
   "file_extension": ".py",
   "mimetype": "text/x-python",
   "name": "python",
   "nbconvert_exporter": "python",
   "pygments_lexer": "ipython3",
   "version": "3.11.5"
  }
 },
 "nbformat": 4,
 "nbformat_minor": 5
}
