{
 "cells": [
  {
   "cell_type": "code",
   "execution_count": null,
   "id": "5c7aad0d-cabe-4f62-a8d7-8e675a7e6410",
   "metadata": {},
   "outputs": [],
   "source": []
  }
 ],
 "metadata": {
  "kernelspec": {
   "display_name": "",
   "name": ""
  },
  "language_info": {
   "name": ""
  }
 },
 "nbformat": 4,
 "nbformat_minor": 5
}
