{
 "cells": [
  {
   "cell_type": "code",
   "execution_count": null,
   "id": "46f3ee8e-6584-418c-89e2-65c2093f3d9f",
   "metadata": {},
   "outputs": [],
   "source": [
    "# Control Theory\n",
    "In this notebook you will learn about control theory"
   ]
  },
  {
   "cell_type": "markdown",
   "id": "4959cfe0-d915-439d-9f8e-9d89603489c2",
   "metadata": {},
   "source": [
    "### Classical Control\n",
    "- PID Control\n",
    "- Root Locus\n",
    "- Frequency Domain Analysis"
   ]
  },
  {
   "cell_type": "markdown",
   "id": "9151b5bb-6f65-440b-8ecf-6da52fa76e2a",
   "metadata": {},
   "source": [
    "### Modern Control\n",
    "- State feedback\n",
    "- Observaility\n",
    "- Controllability\n",
    "- Robust Control Design"
   ]
  }
 ],
 "metadata": {
  "kernelspec": {
   "display_name": "Python 3 (ipykernel)",
   "language": "python",
   "name": "python3"
  },
  "language_info": {
   "codemirror_mode": {
    "name": "ipython",
    "version": 3
   },
   "file_extension": ".py",
   "mimetype": "text/x-python",
   "name": "python",
   "nbconvert_exporter": "python",
   "pygments_lexer": "ipython3",
   "version": "3.11.5"
  }
 },
 "nbformat": 4,
 "nbformat_minor": 5
}
