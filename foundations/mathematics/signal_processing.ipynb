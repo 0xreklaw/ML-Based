{
 "cells": [
  {
   "cell_type": "markdown",
   "id": "ad62702e-ffdc-4b4d-a832-7e8f40c66ba2",
   "metadata": {},
   "source": [
    "# Signal Processing\n",
    "In this notebook you will learn about signal processing"
   ]
  },
  {
   "cell_type": "markdown",
   "id": "3cec3f0d-8082-4ddb-89da-659ac6b994a5",
   "metadata": {},
   "source": [
    "### Fourier Transform"
   ]
  },
  {
   "cell_type": "markdown",
   "id": "4a600288-e341-4f33-a2f1-d3629d46b8be",
   "metadata": {},
   "source": [
    "### Filter Design"
   ]
  }
 ],
 "metadata": {
  "kernelspec": {
   "display_name": "Python 3 (ipykernel)",
   "language": "python",
   "name": "python3"
  },
  "language_info": {
   "codemirror_mode": {
    "name": "ipython",
    "version": 3
   },
   "file_extension": ".py",
   "mimetype": "text/x-python",
   "name": "python",
   "nbconvert_exporter": "python",
   "pygments_lexer": "ipython3",
   "version": "3.11.5"
  }
 },
 "nbformat": 4,
 "nbformat_minor": 5
}
