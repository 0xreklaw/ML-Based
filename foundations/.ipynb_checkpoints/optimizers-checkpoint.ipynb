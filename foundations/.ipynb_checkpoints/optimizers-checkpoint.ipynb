{
 "cells": [
  {
   "cell_type": "markdown",
   "id": "ae77011f-e64c-450e-805f-286805819ec3",
   "metadata": {},
   "source": [
    "# Optimzers"
   ]
  },
  {
   "cell_type": "markdown",
   "id": "f9265537-47a6-4ed5-ba3a-2be401603703",
   "metadata": {},
   "source": [
    "Includes:\n",
    "- Gradient Descent\n",
    "- Stochastic Gradient Descent\n",
    "- Momentum\n",
    "- Adagrad\n",
    "- RnsProp\n",
    "- Adadelta\n",
    "- Adam"
   ]
  },
  {
   "cell_type": "markdown",
   "id": "e09702ba-72bb-4722-a93c-86e314c77f77",
   "metadata": {},
   "source": [
    "#### Further Reading\n",
    "- [Overview](https://medium.com/game-of-bits/understanding-optimizers-for-training-deep-learning-models-694c071b5b70)\n",
    "- [A comprehensive guide](https://www.analyticsvidhya.com/blog/2021/10/a-comprehensive-guide-on-deep-learning-optimizers/)\n",
    "- [Why optimizers are important](https://machinelearningmastery.com/why-optimization-is-important-in-machine-learning/)"
   ]
  },
  {
   "cell_type": "code",
   "execution_count": null,
   "id": "fed8803f-9ed4-4a92-9145-7f5cf847cf8a",
   "metadata": {},
   "outputs": [],
   "source": []
  }
 ],
 "metadata": {
  "kernelspec": {
   "display_name": "Python 3 (ipykernel)",
   "language": "python",
   "name": "python3"
  },
  "language_info": {
   "codemirror_mode": {
    "name": "ipython",
    "version": 3
   },
   "file_extension": ".py",
   "mimetype": "text/x-python",
   "name": "python",
   "nbconvert_exporter": "python",
   "pygments_lexer": "ipython3",
   "version": "3.11.5"
  }
 },
 "nbformat": 4,
 "nbformat_minor": 5
}
