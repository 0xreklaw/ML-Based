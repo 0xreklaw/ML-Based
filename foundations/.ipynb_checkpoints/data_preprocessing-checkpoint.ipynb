{
 "cells": [
  {
   "cell_type": "markdown",
   "id": "0f1572ea-bba5-4168-ad73-b70c76311529",
   "metadata": {},
   "source": [
    "# Data Proprocessing\n",
    "In this notebook you will learn about data preprocessing"
   ]
  },
  {
   "cell_type": "markdown",
   "id": "552b1606-d6e3-47d3-9f70-e71d8d9346d3",
   "metadata": {},
   "source": [
    "### Data Cleaning\n",
    "- Handling missing data\n",
    "- Noise identification\n",
    "- Inconsistency Correction "
   ]
  },
  {
   "cell_type": "markdown",
   "id": "84154591-ea23-4ddd-b6b3-bd83d98fce11",
   "metadata": {},
   "source": [
    "### Data Transformation\n",
    "- Normalization\n",
    "- Standardization\n",
    "- Feature Scaling"
   ]
  },
  {
   "cell_type": "markdown",
   "id": "b2a8151c-5a12-4594-ba1a-8a2f2b89b7a7",
   "metadata": {},
   "source": [
    "### Data Reduction\n",
    "- Dimensionality Reduction\n",
    "- Binning\n",
    "- Aggregation"
   ]
  },
  {
   "cell_type": "markdown",
   "id": "b5c691da-04f0-46b9-9b7f-aafca7193bd0",
   "metadata": {},
   "source": [
    "### Data Integration\n",
    "- Merging data from multiple sources\n",
    "- Entity identification problem"
   ]
  },
  {
   "cell_type": "markdown",
   "id": "01365260-7f96-4c58-bd5b-65a2f266d315",
   "metadata": {},
   "source": [
    "### Feature Engineering\n",
    "- Feature Creation\n",
    "- Feature Extraction\n",
    "- Feature Selection"
   ]
  },
  {
   "cell_type": "markdown",
   "id": "748fdfe5-1c7a-4ef9-9a7e-9dca657cc627",
   "metadata": {},
   "source": [
    "### Data Discretization\n",
    "- Binarization\n",
    "- Histograms"
   ]
  },
  {
   "cell_type": "markdown",
   "id": "2590239a-2948-4c5c-ae3f-b505ff8c9d1f",
   "metadata": {},
   "source": [
    "### Data Encoding\n",
    "- One-Hot Encoding\n",
    "- Label Encoding\n",
    "- Ordinal Encoding"
   ]
  },
  {
   "cell_type": "markdown",
   "id": "15d70fb0-937c-4483-8361-4940b70715e0",
   "metadata": {},
   "source": [
    "### Handling Imbalanced Data:\n",
    "- Oversampling\n",
    "- Undersampling\n",
    "- Synthetic Data Generation"
   ]
  },
  {
   "cell_type": "markdown",
   "id": "a81a631a-cee6-4624-97a9-f893967a5d03",
   "metadata": {},
   "source": [
    "### Image Preprocessing\n",
    "- Resizing and Rescaling\n",
    "- Image Augmentation\n",
    "- Color Space Conversion"
   ]
  },
  {
   "cell_type": "markdown",
   "id": "72a8cb92-b625-4bb9-8901-125126bb0596",
   "metadata": {},
   "source": [
    "### Time Series Preprocessing\n",
    "- Sequence Padding\n",
    "- Windowing\n",
    "- Differencing"
   ]
  }
 ],
 "metadata": {
  "kernelspec": {
   "display_name": "Python 3 (ipykernel)",
   "language": "python",
   "name": "python3"
  },
  "language_info": {
   "codemirror_mode": {
    "name": "ipython",
    "version": 3
   },
   "file_extension": ".py",
   "mimetype": "text/x-python",
   "name": "python",
   "nbconvert_exporter": "python",
   "pygments_lexer": "ipython3",
   "version": "3.11.5"
  }
 },
 "nbformat": 4,
 "nbformat_minor": 5
}
