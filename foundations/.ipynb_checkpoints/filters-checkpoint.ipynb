{
 "cells": [
  {
   "cell_type": "code",
   "execution_count": null,
   "id": "0756fb61-618f-42d1-84b2-b35080423f9f",
   "metadata": {},
   "outputs": [],
   "source": [
    "# Kalman Filter\n",
    "# Exponential Moving Average (EMA)\n",
    "# Median Filter\n",
    "# Band Pass, High, Low Pass Filter\n",
    "# Velocity Filter\n",
    "# Confidence Threshold\n",
    "# Gaussian Filter\n",
    "# Bilaterial "
   ]
  }
 ],
 "metadata": {
  "kernelspec": {
   "display_name": "Python 3 (ipykernel)",
   "language": "python",
   "name": "python3"
  },
  "language_info": {
   "codemirror_mode": {
    "name": "ipython",
    "version": 3
   },
   "file_extension": ".py",
   "mimetype": "text/x-python",
   "name": "python",
   "nbconvert_exporter": "python",
   "pygments_lexer": "ipython3",
   "version": "3.11.5"
  }
 },
 "nbformat": 4,
 "nbformat_minor": 5
}
