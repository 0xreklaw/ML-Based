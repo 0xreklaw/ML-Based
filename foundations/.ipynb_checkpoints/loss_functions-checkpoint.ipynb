{
 "cells": [
  {
   "cell_type": "markdown",
   "id": "62a014ca-d9de-4fc3-8957-6baa05034619",
   "metadata": {},
   "source": [
    "# Loss Function"
   ]
  },
  {
   "cell_type": "markdown",
   "id": "b715a3e9-508b-4049-8ca1-0cc395054785",
   "metadata": {},
   "source": [
    "#### Types of Loss Functions:\n",
    "| Loss Function | Classification | Regression |\n",
    "| ---           | :---:            |:---:         |\n",
    "| Mean Squared Error (MSE) / L2 Loss | No | Yes |\n",
    "| Mean Absolute Error (MBE) / L1 Loss | No | Yes |\n",
    "| Binary Cross-Entropy / Log Loss | Yes | No |\n",
    "| Categorical Cross-Entropy Loss | Yes | No |\n",
    "| Hinge Loss | Yes | No |\n",
    "| Huber Loss / Smooth Mean Absolute Error | No | Yes |\n",
    "| Log Loss | Yes | No |"
   ]
  },
  {
   "cell_type": "markdown",
   "id": "f5f73437-a19f-40be-bc8b-6d4035264837",
   "metadata": {},
   "source": [
    "#### Further Reading\n",
    "- [Overview](https://www.datacamp.com/tutorial/loss-function-in-machine-learning)\n",
    "- [How to choose loss function for deep learning](https://machinelearningmastery.com/how-to-choose-loss-functions-when-training-deep-learning-neural-networks/)"
   ]
  }
 ],
 "metadata": {
  "kernelspec": {
   "display_name": "Python 3 (ipykernel)",
   "language": "python",
   "name": "python3"
  },
  "language_info": {
   "codemirror_mode": {
    "name": "ipython",
    "version": 3
   },
   "file_extension": ".py",
   "mimetype": "text/x-python",
   "name": "python",
   "nbconvert_exporter": "python",
   "pygments_lexer": "ipython3",
   "version": "3.11.5"
  }
 },
 "nbformat": 4,
 "nbformat_minor": 5
}
